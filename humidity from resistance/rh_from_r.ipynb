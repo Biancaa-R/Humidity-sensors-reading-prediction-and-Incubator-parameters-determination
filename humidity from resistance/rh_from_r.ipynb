{
 "cells": [
  {
   "cell_type": "markdown",
   "metadata": {},
   "source": [
    "# Predicting relative humidity from the change in resistance value:"
   ]
  },
  {
   "cell_type": "code",
   "execution_count": 16,
   "metadata": {},
   "outputs": [],
   "source": [
    "import pandas as pd\n",
    "humidity=pd.read_csv(\"humidity.csv\",index_col=\"Time\")"
   ]
  },
  {
   "cell_type": "code",
   "execution_count": 17,
   "metadata": {},
   "outputs": [],
   "source": [
    "null_pct=humidity.apply(pd.isnull).sum()/humidity.shape[0]\n",
    "valid_columns=humidity.columns[null_pct<0.05]"
   ]
  },
  {
   "cell_type": "code",
   "execution_count": 18,
   "metadata": {},
   "outputs": [
    {
     "data": {
      "text/plain": [
       "Index(['RelativeHumidity', 'Temperature', 'Resistance'], dtype='object')"
      ]
     },
     "execution_count": 18,
     "metadata": {},
     "output_type": "execute_result"
    }
   ],
   "source": [
    "valid_columns"
   ]
  },
  {
   "cell_type": "code",
   "execution_count": 19,
   "metadata": {},
   "outputs": [
    {
     "data": {
      "text/html": [
       "<div>\n",
       "<style scoped>\n",
       "    .dataframe tbody tr th:only-of-type {\n",
       "        vertical-align: middle;\n",
       "    }\n",
       "\n",
       "    .dataframe tbody tr th {\n",
       "        vertical-align: top;\n",
       "    }\n",
       "\n",
       "    .dataframe thead th {\n",
       "        text-align: right;\n",
       "    }\n",
       "</style>\n",
       "<table border=\"1\" class=\"dataframe\">\n",
       "  <thead>\n",
       "    <tr style=\"text-align: right;\">\n",
       "      <th></th>\n",
       "      <th>RelativeHumidity</th>\n",
       "      <th>Temperature</th>\n",
       "      <th>Resistance</th>\n",
       "    </tr>\n",
       "    <tr>\n",
       "      <th>Time</th>\n",
       "      <th></th>\n",
       "      <th></th>\n",
       "      <th></th>\n",
       "    </tr>\n",
       "  </thead>\n",
       "  <tbody>\n",
       "    <tr>\n",
       "      <th>0</th>\n",
       "      <td>20.000</td>\n",
       "      <td>25.0000</td>\n",
       "      <td>1700.00</td>\n",
       "    </tr>\n",
       "    <tr>\n",
       "      <th>1</th>\n",
       "      <td>20.124</td>\n",
       "      <td>25.0083</td>\n",
       "      <td>1686.12</td>\n",
       "    </tr>\n",
       "    <tr>\n",
       "      <th>2</th>\n",
       "      <td>20.248</td>\n",
       "      <td>25.0166</td>\n",
       "      <td>1672.24</td>\n",
       "    </tr>\n",
       "    <tr>\n",
       "      <th>3</th>\n",
       "      <td>20.372</td>\n",
       "      <td>25.0249</td>\n",
       "      <td>1658.36</td>\n",
       "    </tr>\n",
       "    <tr>\n",
       "      <th>4</th>\n",
       "      <td>20.496</td>\n",
       "      <td>25.0332</td>\n",
       "      <td>1644.48</td>\n",
       "    </tr>\n",
       "  </tbody>\n",
       "</table>\n",
       "</div>"
      ],
      "text/plain": [
       "      RelativeHumidity  Temperature  Resistance\n",
       "Time                                           \n",
       "0               20.000      25.0000     1700.00\n",
       "1               20.124      25.0083     1686.12\n",
       "2               20.248      25.0166     1672.24\n",
       "3               20.372      25.0249     1658.36\n",
       "4               20.496      25.0332     1644.48"
      ]
     },
     "execution_count": 19,
     "metadata": {},
     "output_type": "execute_result"
    }
   ],
   "source": [
    "humidity.head()"
   ]
  },
  {
   "cell_type": "code",
   "execution_count": 20,
   "metadata": {},
   "outputs": [],
   "source": [
    "\n",
    "humidity.columns=humidity.columns.str.lower()"
   ]
  },
  {
   "cell_type": "code",
   "execution_count": 21,
   "metadata": {},
   "outputs": [
    {
     "data": {
      "text/plain": [
       "Time\n",
       "0      25.0000\n",
       "1      25.0083\n",
       "2      25.0166\n",
       "3      25.0249\n",
       "4      25.0332\n",
       "        ...   \n",
       "598    29.9800\n",
       "599    29.9883\n",
       "600    29.9966\n",
       "601    30.0049\n",
       "602    30.0132\n",
       "Name: temperature, Length: 605, dtype: float64"
      ]
     },
     "execution_count": 21,
     "metadata": {},
     "output_type": "execute_result"
    }
   ],
   "source": [
    "humidity=humidity.ffill()\n",
    "humidity[\"relativehumidity\"].astype(\"float\")\n",
    "humidity[\"resistance\"].astype(\"float\")\n",
    "humidity[\"temperature\"].astype(\"float\")"
   ]
  },
  {
   "cell_type": "code",
   "execution_count": 22,
   "metadata": {},
   "outputs": [
    {
     "data": {
      "text/html": [
       "<div>\n",
       "<style scoped>\n",
       "    .dataframe tbody tr th:only-of-type {\n",
       "        vertical-align: middle;\n",
       "    }\n",
       "\n",
       "    .dataframe tbody tr th {\n",
       "        vertical-align: top;\n",
       "    }\n",
       "\n",
       "    .dataframe thead th {\n",
       "        text-align: right;\n",
       "    }\n",
       "</style>\n",
       "<table border=\"1\" class=\"dataframe\">\n",
       "  <thead>\n",
       "    <tr style=\"text-align: right;\">\n",
       "      <th></th>\n",
       "      <th>relativehumidity</th>\n",
       "      <th>temperature</th>\n",
       "      <th>resistance</th>\n",
       "    </tr>\n",
       "  </thead>\n",
       "  <tbody>\n",
       "    <tr>\n",
       "      <th>relativehumidity</th>\n",
       "      <td>1.000000</td>\n",
       "      <td>1.000000</td>\n",
       "      <td>-0.061629</td>\n",
       "    </tr>\n",
       "    <tr>\n",
       "      <th>temperature</th>\n",
       "      <td>1.000000</td>\n",
       "      <td>1.000000</td>\n",
       "      <td>-0.061629</td>\n",
       "    </tr>\n",
       "    <tr>\n",
       "      <th>resistance</th>\n",
       "      <td>-0.061629</td>\n",
       "      <td>-0.061629</td>\n",
       "      <td>1.000000</td>\n",
       "    </tr>\n",
       "  </tbody>\n",
       "</table>\n",
       "</div>"
      ],
      "text/plain": [
       "                  relativehumidity  temperature  resistance\n",
       "relativehumidity          1.000000     1.000000   -0.061629\n",
       "temperature               1.000000     1.000000   -0.061629\n",
       "resistance               -0.061629    -0.061629    1.000000"
      ]
     },
     "execution_count": 22,
     "metadata": {},
     "output_type": "execute_result"
    }
   ],
   "source": [
    "humidity.corr()"
   ]
  },
  {
   "cell_type": "code",
   "execution_count": 23,
   "metadata": {},
   "outputs": [
    {
     "data": {
      "text/html": [
       "<div>\n",
       "<style scoped>\n",
       "    .dataframe tbody tr th:only-of-type {\n",
       "        vertical-align: middle;\n",
       "    }\n",
       "\n",
       "    .dataframe tbody tr th {\n",
       "        vertical-align: top;\n",
       "    }\n",
       "\n",
       "    .dataframe thead th {\n",
       "        text-align: right;\n",
       "    }\n",
       "</style>\n",
       "<table border=\"1\" class=\"dataframe\">\n",
       "  <thead>\n",
       "    <tr style=\"text-align: right;\">\n",
       "      <th></th>\n",
       "      <th>relativehumidity</th>\n",
       "      <th>temperature</th>\n",
       "      <th>resistance</th>\n",
       "      <th>target</th>\n",
       "    </tr>\n",
       "    <tr>\n",
       "      <th>Time</th>\n",
       "      <th></th>\n",
       "      <th></th>\n",
       "      <th></th>\n",
       "      <th></th>\n",
       "    </tr>\n",
       "  </thead>\n",
       "  <tbody>\n",
       "    <tr>\n",
       "      <th>0</th>\n",
       "      <td>20.000</td>\n",
       "      <td>25.0000</td>\n",
       "      <td>1700.00</td>\n",
       "      <td>20.124</td>\n",
       "    </tr>\n",
       "    <tr>\n",
       "      <th>1</th>\n",
       "      <td>20.124</td>\n",
       "      <td>25.0083</td>\n",
       "      <td>1686.12</td>\n",
       "      <td>20.248</td>\n",
       "    </tr>\n",
       "    <tr>\n",
       "      <th>2</th>\n",
       "      <td>20.248</td>\n",
       "      <td>25.0166</td>\n",
       "      <td>1672.24</td>\n",
       "      <td>20.372</td>\n",
       "    </tr>\n",
       "    <tr>\n",
       "      <th>3</th>\n",
       "      <td>20.372</td>\n",
       "      <td>25.0249</td>\n",
       "      <td>1658.36</td>\n",
       "      <td>20.496</td>\n",
       "    </tr>\n",
       "    <tr>\n",
       "      <th>4</th>\n",
       "      <td>20.496</td>\n",
       "      <td>25.0332</td>\n",
       "      <td>1644.48</td>\n",
       "      <td>20.620</td>\n",
       "    </tr>\n",
       "    <tr>\n",
       "      <th>...</th>\n",
       "      <td>...</td>\n",
       "      <td>...</td>\n",
       "      <td>...</td>\n",
       "      <td>...</td>\n",
       "    </tr>\n",
       "    <tr>\n",
       "      <th>598</th>\n",
       "      <td>94.400</td>\n",
       "      <td>29.9800</td>\n",
       "      <td>200.00</td>\n",
       "      <td>94.524</td>\n",
       "    </tr>\n",
       "    <tr>\n",
       "      <th>599</th>\n",
       "      <td>94.524</td>\n",
       "      <td>29.9883</td>\n",
       "      <td>200.00</td>\n",
       "      <td>94.648</td>\n",
       "    </tr>\n",
       "    <tr>\n",
       "      <th>600</th>\n",
       "      <td>94.648</td>\n",
       "      <td>29.9966</td>\n",
       "      <td>200.00</td>\n",
       "      <td>94.772</td>\n",
       "    </tr>\n",
       "    <tr>\n",
       "      <th>601</th>\n",
       "      <td>94.772</td>\n",
       "      <td>30.0049</td>\n",
       "      <td>200.00</td>\n",
       "      <td>94.896</td>\n",
       "    </tr>\n",
       "    <tr>\n",
       "      <th>602</th>\n",
       "      <td>94.896</td>\n",
       "      <td>30.0132</td>\n",
       "      <td>200.00</td>\n",
       "      <td>94.896</td>\n",
       "    </tr>\n",
       "  </tbody>\n",
       "</table>\n",
       "<p>605 rows × 4 columns</p>\n",
       "</div>"
      ],
      "text/plain": [
       "      relativehumidity  temperature  resistance  target\n",
       "Time                                                   \n",
       "0               20.000      25.0000     1700.00  20.124\n",
       "1               20.124      25.0083     1686.12  20.248\n",
       "2               20.248      25.0166     1672.24  20.372\n",
       "3               20.372      25.0249     1658.36  20.496\n",
       "4               20.496      25.0332     1644.48  20.620\n",
       "...                ...          ...         ...     ...\n",
       "598             94.400      29.9800      200.00  94.524\n",
       "599             94.524      29.9883      200.00  94.648\n",
       "600             94.648      29.9966      200.00  94.772\n",
       "601             94.772      30.0049      200.00  94.896\n",
       "602             94.896      30.0132      200.00  94.896\n",
       "\n",
       "[605 rows x 4 columns]"
      ]
     },
     "execution_count": 23,
     "metadata": {},
     "output_type": "execute_result"
    }
   ],
   "source": [
    "humidity[\"target\"]=humidity.shift(-1)[\"relativehumidity\"]\n",
    "humidity=humidity.ffill()\n",
    "humidity"
   ]
  },
  {
   "cell_type": "code",
   "execution_count": 24,
   "metadata": {},
   "outputs": [],
   "source": [
    "from sklearn.linear_model import Ridge\n",
    "rr=Ridge(alpha=0.1)\n",
    "predictors=humidity.columns[~humidity.columns.isin([\"target\"])]"
   ]
  },
  {
   "cell_type": "code",
   "execution_count": 25,
   "metadata": {},
   "outputs": [
    {
     "data": {
      "text/html": [
       "<div>\n",
       "<style scoped>\n",
       "    .dataframe tbody tr th:only-of-type {\n",
       "        vertical-align: middle;\n",
       "    }\n",
       "\n",
       "    .dataframe tbody tr th {\n",
       "        vertical-align: top;\n",
       "    }\n",
       "\n",
       "    .dataframe thead th {\n",
       "        text-align: right;\n",
       "    }\n",
       "</style>\n",
       "<table border=\"1\" class=\"dataframe\">\n",
       "  <thead>\n",
       "    <tr style=\"text-align: right;\">\n",
       "      <th></th>\n",
       "      <th>actual</th>\n",
       "      <th>prediction</th>\n",
       "      <th>resistance</th>\n",
       "    </tr>\n",
       "    <tr>\n",
       "      <th>Time</th>\n",
       "      <th></th>\n",
       "      <th></th>\n",
       "      <th></th>\n",
       "    </tr>\n",
       "  </thead>\n",
       "  <tbody>\n",
       "    <tr>\n",
       "      <th>20</th>\n",
       "      <td>22.604</td>\n",
       "      <td>22.603999</td>\n",
       "      <td>1422.40</td>\n",
       "    </tr>\n",
       "    <tr>\n",
       "      <th>21</th>\n",
       "      <td>22.728</td>\n",
       "      <td>22.727999</td>\n",
       "      <td>1408.52</td>\n",
       "    </tr>\n",
       "    <tr>\n",
       "      <th>22</th>\n",
       "      <td>22.852</td>\n",
       "      <td>22.851999</td>\n",
       "      <td>1394.64</td>\n",
       "    </tr>\n",
       "    <tr>\n",
       "      <th>23</th>\n",
       "      <td>22.976</td>\n",
       "      <td>22.975999</td>\n",
       "      <td>1380.76</td>\n",
       "    </tr>\n",
       "    <tr>\n",
       "      <th>24</th>\n",
       "      <td>23.100</td>\n",
       "      <td>23.099999</td>\n",
       "      <td>1366.88</td>\n",
       "    </tr>\n",
       "    <tr>\n",
       "      <th>...</th>\n",
       "      <td>...</td>\n",
       "      <td>...</td>\n",
       "      <td>...</td>\n",
       "    </tr>\n",
       "    <tr>\n",
       "      <th>598</th>\n",
       "      <td>94.524</td>\n",
       "      <td>94.523982</td>\n",
       "      <td>200.00</td>\n",
       "    </tr>\n",
       "    <tr>\n",
       "      <th>599</th>\n",
       "      <td>94.648</td>\n",
       "      <td>94.647982</td>\n",
       "      <td>200.00</td>\n",
       "    </tr>\n",
       "    <tr>\n",
       "      <th>600</th>\n",
       "      <td>94.772</td>\n",
       "      <td>94.771982</td>\n",
       "      <td>200.00</td>\n",
       "    </tr>\n",
       "    <tr>\n",
       "      <th>601</th>\n",
       "      <td>94.896</td>\n",
       "      <td>94.895982</td>\n",
       "      <td>200.00</td>\n",
       "    </tr>\n",
       "    <tr>\n",
       "      <th>602</th>\n",
       "      <td>94.896</td>\n",
       "      <td>95.019982</td>\n",
       "      <td>200.00</td>\n",
       "    </tr>\n",
       "  </tbody>\n",
       "</table>\n",
       "<p>585 rows × 3 columns</p>\n",
       "</div>"
      ],
      "text/plain": [
       "      actual  prediction  resistance\n",
       "Time                                \n",
       "20    22.604   22.603999     1422.40\n",
       "21    22.728   22.727999     1408.52\n",
       "22    22.852   22.851999     1394.64\n",
       "23    22.976   22.975999     1380.76\n",
       "24    23.100   23.099999     1366.88\n",
       "...      ...         ...         ...\n",
       "598   94.524   94.523982      200.00\n",
       "599   94.648   94.647982      200.00\n",
       "600   94.772   94.771982      200.00\n",
       "601   94.896   94.895982      200.00\n",
       "602   94.896   95.019982      200.00\n",
       "\n",
       "[585 rows x 3 columns]"
      ]
     },
     "execution_count": 25,
     "metadata": {},
     "output_type": "execute_result"
    }
   ],
   "source": [
    "def backtest(humidity,model,predictors,start=20,step=90):\n",
    "    all_predictions=[]\n",
    "    for i in range(start, humidity.shape[0],step):\n",
    "        train=humidity.iloc[:i:]\n",
    "        test=humidity.iloc[i:(i+step):]\n",
    "        model.fit(train[predictors],train[\"target\"])\n",
    "        preds=model.predict(test[predictors])\n",
    "        preds=pd.Series(preds,index=test.index)\n",
    "        combined= pd.concat([test[\"target\"],preds,test[\"resistance\"]],axis=1)\n",
    "        combined.columns=[\"actual\",\"prediction\",\"resistance\"]\n",
    "        all_predictions.append(combined)\n",
    "    return pd.concat(all_predictions)\n",
    "predictions=backtest(humidity,rr,predictors)\n",
    "predictions\n"
   ]
  },
  {
   "cell_type": "code",
   "execution_count": 26,
   "metadata": {},
   "outputs": [
    {
     "data": {
      "text/plain": [
       "0.9123371213301293"
      ]
     },
     "execution_count": 26,
     "metadata": {},
     "output_type": "execute_result"
    }
   ],
   "source": [
    "#Calculating mean absolute error\n",
    "from sklearn.metrics import mean_absolute_error\n",
    "mean_absolute_error(predictions[\"actual\"],predictions[\"prediction\"])\n"
   ]
  },
  {
   "cell_type": "code",
   "execution_count": 49,
   "metadata": {},
   "outputs": [
    {
     "name": "stdout",
     "output_type": "stream",
     "text": [
      "0.8752136752136752\n"
     ]
    }
   ],
   "source": [
    "#calculting accuracy\n",
    "from sklearn.metrics import accuracy_score\n",
    "l=list(predictions[\"actual\"])\n",
    "actual=[]\n",
    "pred=[]\n",
    "for i in l:\n",
    "    i=int(i)\n",
    "    actual.append(i)\n",
    "m=list(predictions[\"prediction\"])\n",
    "for i in m:\n",
    "    i=int(i)\n",
    "    pred.append(i)\n",
    "accuracy = accuracy_score(actual,pred)\n",
    "print(accuracy)"
   ]
  },
  {
   "cell_type": "code",
   "execution_count": 57,
   "metadata": {},
   "outputs": [
    {
     "data": {
      "image/png": "[encoded data removed]",
      "text/plain": [
       "<Figure size 640x480 with 2 Axes>"
      ]
     },
     "metadata": {},
     "output_type": "display_data"
    }
   ],
   "source": [
    "#plotting confusion matrix\n",
    "from sklearn.metrics import confusion_matrix\n",
    "confusion_matrix(actual,pred)\n",
    "\n",
    "import seaborn as sns\n",
    "import matplotlib.pyplot as plt\n",
    "sns.heatmap(cm,\n",
    "            annot=True,\n",
    "            fmt='g',)\n",
    "plt.ylabel('Prediction',fontsize=13)\n",
    "plt.xlabel('Actual',fontsize=13)\n",
    "plt.title('Confusion Matrix',fontsize=17)\n",
    "plt.show()\n"
   ]
  },
  {
   "cell_type": "code",
   "execution_count": 59,
   "metadata": {},
   "outputs": [
    {
     "name": "stdout",
     "output_type": "stream",
     "text": [
      "Root Mean Square Error: 2.8735637944532684\n",
      "mean square error: 8.257368880792665\n"
     ]
    }
   ],
   "source": [
    "#Root mean square error:\n",
    "import numpy as np\n",
    "from sklearn.metrics import mean_squared_error\n",
    "\n",
    "# Calculate RMSE\n",
    "mse=mean_squared_error(l,m)\n",
    "rmse = np.sqrt(mean_squared_error(l,m))\n",
    "\n",
    "print(\"Root Mean Square Error:\", rmse)\n",
    "print(\"mean square error:\",mse)"
   ]
  },
  {
   "cell_type": "code",
   "execution_count": null,
   "metadata": {},
   "outputs": [
    {
     "name": "stdout",
     "output_type": "stream",
     "text": [
      "      actual  prediction  resistance\n",
      "Time                                \n",
      "20       NaN         NaN         NaN\n",
      "21       NaN         NaN         NaN\n",
      "22       NaN         NaN         NaN\n",
      "23       NaN         NaN         NaN\n",
      "24       NaN         NaN         NaN\n",
      "...      ...         ...         ...\n",
      "598   94.524   94.523982       200.0\n",
      "599   94.648   94.647982       200.0\n",
      "600   94.772   94.771982       200.0\n",
      "601   94.896   94.895982       200.0\n",
      "602   94.896   95.019982       200.0\n",
      "\n",
      "[585 rows x 3 columns]\n",
      "61.23114883808859\n",
      "200.0\n"
     ]
    }
   ],
   "source": [
    "res=float(input(\"Enter the resistance value\"))\n",
    "\n",
    "filter = predictions[\"resistance\"]==res\n",
    "x=0\n",
    "for i in (predictions[\"resistance\"]==res):\n",
    "    if i==True:\n",
    "        x+=1\n",
    "if x>0:\n",
    "    prediction=predictions.where(filter,inplace=True)\n",
    "else:\n",
    "    min=200\n",
    "    for i in predictions[\"resistance\"]:\n",
    "        if abs(i-res)<min:\n",
    "            min=i\n",
    "    filter = predictions[\"resistance\"]==min\n",
    "    prediction=predictions.where(filter,inplace=True)\n",
    "print(predictions)\n",
    "print(predictions[\"prediction\"].mean())\n",
    "print(predictions[\"resistance\"].mean())"
   ]
  }
 ],
 "metadata": {
  "kernelspec": {
   "display_name": "base",
   "language": "python",
   "name": "python3"
  },
  "language_info": {
   "codemirror_mode": {
    "name": "ipython",
    "version": 3
   },
   "file_extension": ".py",
   "mimetype": "text/x-python",
   "name": "python",
   "nbconvert_exporter": "python",
   "pygments_lexer": "ipython3",
   "version": "3.11.4"
  },
  "orig_nbformat": 4
 },
 "nbformat": 4,
 "nbformat_minor": 2
}
