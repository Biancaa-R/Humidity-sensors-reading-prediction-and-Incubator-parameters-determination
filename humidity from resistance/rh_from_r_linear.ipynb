{
 "cells": [
  {
   "cell_type": "markdown",
   "metadata": {},
   "source": [
    "# Linear regression"
   ]
  },
  {
   "cell_type": "code",
   "execution_count": 1,
   "metadata": {},
   "outputs": [],
   "source": [
    "import pandas as pd\n",
    "import numpy as np\n",
    "\n",
    "humidity=pd.read_csv(\"humidity.csv\")\n",
    "#Converting the headers to lower case:\n",
    "humidity.columns=humidity.columns.str.lower()\n",
    "x=humidity[[\"resistance\",\"temperature\"]].copy()\n",
    "y=humidity[\"relativehumidity\"].copy()"
   ]
  },
  {
   "cell_type": "code",
   "execution_count": 2,
   "metadata": {},
   "outputs": [],
   "source": [
    "x[\"intercept\"]=1\n",
    "x=x[[\"intercept\",\"temperature\",\"resistance\"]]\n",
    "x_t=x.T"
   ]
  },
  {
   "cell_type": "code",
   "execution_count": 3,
   "metadata": {},
   "outputs": [
    {
     "data": {
      "text/plain": [
       "0   -3.534940e+02\n",
       "1    1.493976e+01\n",
       "2   -2.908982e-16\n",
       "dtype: float64"
      ]
     },
     "execution_count": 3,
     "metadata": {},
     "output_type": "execute_result"
    }
   ],
   "source": [
    "#print(x_t)\n",
    "#print(x)\n",
    "B=np.linalg.inv(x_t@x)@x_t@y\n",
    "B\n",
    "#These valuses are B[0],B[1],B[2] respectively"
   ]
  },
  {
   "cell_type": "code",
   "execution_count": 4,
   "metadata": {},
   "outputs": [],
   "source": [
    "B.index=x.columns\n",
    "predictions=x@B"
   ]
  },
  {
   "cell_type": "code",
   "execution_count": 5,
   "metadata": {},
   "outputs": [
    {
     "data": {
      "text/plain": [
       "0      20.000\n",
       "1      20.124\n",
       "2      20.248\n",
       "3      20.372\n",
       "4      20.496\n",
       "        ...  \n",
       "600    94.400\n",
       "601    94.524\n",
       "602    94.648\n",
       "603    94.772\n",
       "604    94.896\n",
       "Length: 605, dtype: float64"
      ]
     },
     "execution_count": 5,
     "metadata": {},
     "output_type": "execute_result"
    }
   ],
   "source": [
    "predictions"
   ]
  },
  {
   "cell_type": "code",
   "execution_count": 6,
   "metadata": {},
   "outputs": [
    {
     "data": {
      "text/html": [
       "<div>\n",
       "<style scoped>\n",
       "    .dataframe tbody tr th:only-of-type {\n",
       "        vertical-align: middle;\n",
       "    }\n",
       "\n",
       "    .dataframe tbody tr th {\n",
       "        vertical-align: top;\n",
       "    }\n",
       "\n",
       "    .dataframe thead th {\n",
       "        text-align: right;\n",
       "    }\n",
       "</style>\n",
       "<table border=\"1\" class=\"dataframe\">\n",
       "  <thead>\n",
       "    <tr style=\"text-align: right;\">\n",
       "      <th></th>\n",
       "      <th>actual</th>\n",
       "      <th>prediction</th>\n",
       "    </tr>\n",
       "  </thead>\n",
       "  <tbody>\n",
       "    <tr>\n",
       "      <th>0</th>\n",
       "      <td>20.000</td>\n",
       "      <td>20.000</td>\n",
       "    </tr>\n",
       "    <tr>\n",
       "      <th>1</th>\n",
       "      <td>20.124</td>\n",
       "      <td>20.124</td>\n",
       "    </tr>\n",
       "    <tr>\n",
       "      <th>2</th>\n",
       "      <td>20.248</td>\n",
       "      <td>20.248</td>\n",
       "    </tr>\n",
       "    <tr>\n",
       "      <th>3</th>\n",
       "      <td>20.372</td>\n",
       "      <td>20.372</td>\n",
       "    </tr>\n",
       "    <tr>\n",
       "      <th>4</th>\n",
       "      <td>20.496</td>\n",
       "      <td>20.496</td>\n",
       "    </tr>\n",
       "    <tr>\n",
       "      <th>...</th>\n",
       "      <td>...</td>\n",
       "      <td>...</td>\n",
       "    </tr>\n",
       "    <tr>\n",
       "      <th>600</th>\n",
       "      <td>94.400</td>\n",
       "      <td>94.400</td>\n",
       "    </tr>\n",
       "    <tr>\n",
       "      <th>601</th>\n",
       "      <td>94.524</td>\n",
       "      <td>94.524</td>\n",
       "    </tr>\n",
       "    <tr>\n",
       "      <th>602</th>\n",
       "      <td>94.648</td>\n",
       "      <td>94.648</td>\n",
       "    </tr>\n",
       "    <tr>\n",
       "      <th>603</th>\n",
       "      <td>94.772</td>\n",
       "      <td>94.772</td>\n",
       "    </tr>\n",
       "    <tr>\n",
       "      <th>604</th>\n",
       "      <td>94.896</td>\n",
       "      <td>94.896</td>\n",
       "    </tr>\n",
       "  </tbody>\n",
       "</table>\n",
       "<p>605 rows × 2 columns</p>\n",
       "</div>"
      ],
      "text/plain": [
       "     actual  prediction\n",
       "0    20.000      20.000\n",
       "1    20.124      20.124\n",
       "2    20.248      20.248\n",
       "3    20.372      20.372\n",
       "4    20.496      20.496\n",
       "..      ...         ...\n",
       "600  94.400      94.400\n",
       "601  94.524      94.524\n",
       "602  94.648      94.648\n",
       "603  94.772      94.772\n",
       "604  94.896      94.896\n",
       "\n",
       "[605 rows x 2 columns]"
      ]
     },
     "execution_count": 6,
     "metadata": {},
     "output_type": "execute_result"
    }
   ],
   "source": [
    "#all_predictions=[]\n",
    "\n",
    "preds=pd.Series(predictions)\n",
    "combined=pd.concat([humidity[\"relativehumidity\"],preds],axis=1)\n",
    "#all_predictions.append(combined)\n",
    "combined.columns=[\"actual\",\"prediction\"]\n",
    "\n",
    "combined"
   ]
  },
  {
   "cell_type": "code",
   "execution_count": 7,
   "metadata": {},
   "outputs": [
    {
     "data": {
      "text/plain": [
       "1.673598266399705e-12"
      ]
     },
     "execution_count": 7,
     "metadata": {},
     "output_type": "execute_result"
    }
   ],
   "source": [
    "from sklearn.metrics import mean_absolute_error\n",
    "mean_absolute_error(combined[\"actual\"],combined[\"prediction\"])"
   ]
  },
  {
   "cell_type": "code",
   "execution_count": 8,
   "metadata": {},
   "outputs": [
    {
     "name": "stdout",
     "output_type": "stream",
     "text": [
      "1.0\n"
     ]
    }
   ],
   "source": [
    "#calculting accuracy\n",
    "from sklearn.metrics import accuracy_score\n",
    "l=list(combined[\"actual\"])\n",
    "actual=[]\n",
    "pred=[]\n",
    "for i in l:\n",
    "    i=int(i)\n",
    "    actual.append(i)\n",
    "m=list(combined[\"prediction\"])\n",
    "for i in m:\n",
    "    i=int(i)\n",
    "    pred.append(i)\n",
    "accuracy = accuracy_score(actual,pred)\n",
    "print(accuracy)"
   ]
  },
  {
   "cell_type": "code",
   "execution_count": 9,
   "metadata": {},
   "outputs": [
    {
     "name": "stdout",
     "output_type": "stream",
     "text": [
      "Confusion Matrix:\n",
      "[[105   0   0   0]\n",
      " [  0 186   0   0]\n",
      " [  0   0 201   0]\n",
      " [  0   0   0 113]]\n"
     ]
    },
    {
     "data": {
      "image/png": "[encoded data removed]",
      "text/plain": [
       "<Figure size 640x480 with 2 Axes>"
      ]
     },
     "metadata": {},
     "output_type": "display_data"
    }
   ],
   "source": [
    "import numpy as np\n",
    "from sklearn.metrics import confusion_matrix\n",
    "\n",
    "true_labels=l\n",
    "predicted_labels=m\n",
    "# Convert decimal values to discrete classes (e.g., using thresholds)\n",
    "thresholds = [20,33,56,81]\n",
    "true_classes = np.digitize(true_labels, thresholds)\n",
    "predicted_classes = np.digitize(predicted_labels, thresholds)\n",
    "\n",
    "# Calculate confusion matrix\n",
    "cm = confusion_matrix(true_classes, predicted_classes, labels=[1, 2, 3, 4])\n",
    "\n",
    "print(\"Confusion Matrix:\")\n",
    "print(cm)\n",
    "\n",
    "class_labels=[\"20-32\",\"33-55\",\"56-80\",\"81-95\"]\n",
    "\n",
    "import seaborn as sns\n",
    "import matplotlib.pyplot as plt\n",
    "sns.heatmap(cm,\n",
    "            annot=True,\n",
    "            fmt='g',\n",
    "            xticklabels=class_labels,\n",
    "            yticklabels=class_labels)\n",
    "plt.ylabel('Prediction',fontsize=13)\n",
    "plt.xlabel('Actual',fontsize=13)\n",
    "plt.title('Confusion Matrix',fontsize=17)\n",
    "plt.show()\n"
   ]
  }
 ],
 "metadata": {
  "kernelspec": {
   "display_name": "base",
   "language": "python",
   "name": "python3"
  },
  "language_info": {
   "codemirror_mode": {
    "name": "ipython",
    "version": 3
   },
   "file_extension": ".py",
   "mimetype": "text/x-python",
   "name": "python",
   "nbconvert_exporter": "python",
   "pygments_lexer": "ipython3",
   "version": "3.11.4"
  },
  "orig_nbformat": 4
 },
 "nbformat": 4,
 "nbformat_minor": 2
}
